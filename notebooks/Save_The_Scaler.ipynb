{
 "cells": [
  {
   "cell_type": "code",
   "execution_count": 8,
   "id": "2bce890e",
   "metadata": {},
   "outputs": [],
   "source": [
    "from keras.models import load_model\n",
    "import pandas as pd\n",
    "import matplotlib.pyplot as plt\n",
    "from sklearn.model_selection import train_test_split\n",
    "from sklearn.pipeline import Pipeline\n",
    "from sklearn.preprocessing import MinMaxScaler, RobustScaler\n",
    "from sklearn.metrics import r2_score\n",
    "import joblib"
   ]
  },
  {
   "cell_type": "markdown",
   "id": "c5a5033a",
   "metadata": {},
   "source": [
    "## Load the ANN model for performance check later"
   ]
  },
  {
   "cell_type": "code",
   "execution_count": 9,
   "id": "500e5221",
   "metadata": {},
   "outputs": [],
   "source": [
    "# load the best model from the training and testing\n",
    "ann_model = load_model('../trained_models/ANN4_reg_nextday300Adam0-01relu64Int4_341.hdf5')\n"
   ]
  },
  {
   "cell_type": "markdown",
   "id": "b31cc0d4",
   "metadata": {},
   "source": [
    "## Get the csv data to be used to fit scaler and test price pred"
   ]
  },
  {
   "cell_type": "code",
   "execution_count": 10,
   "id": "2ff9f283",
   "metadata": {},
   "outputs": [],
   "source": [
    "# get the datasets from csv files\n",
    "df = pd.read_csv('./data/final_feats_df.csv', index_col=[0])\n",
    "\n",
    "price_df = pd.read_csv('./data/price_df.csv', index_col=[0])\n"
   ]
  },
  {
   "cell_type": "code",
   "execution_count": 11,
   "id": "2ef964a7",
   "metadata": {},
   "outputs": [
    {
     "data": {
      "text/html": [
       "<div>\n",
       "<style scoped>\n",
       "    .dataframe tbody tr th:only-of-type {\n",
       "        vertical-align: middle;\n",
       "    }\n",
       "\n",
       "    .dataframe tbody tr th {\n",
       "        vertical-align: top;\n",
       "    }\n",
       "\n",
       "    .dataframe thead th {\n",
       "        text-align: right;\n",
       "    }\n",
       "</style>\n",
       "<table border=\"1\" class=\"dataframe\">\n",
       "  <thead>\n",
       "    <tr style=\"text-align: right;\">\n",
       "      <th></th>\n",
       "      <th>Date</th>\n",
       "      <th>priceUSD</th>\n",
       "    </tr>\n",
       "  </thead>\n",
       "  <tbody>\n",
       "    <tr>\n",
       "      <th>0</th>\n",
       "      <td>2010/07/17</td>\n",
       "      <td>0.0495</td>\n",
       "    </tr>\n",
       "    <tr>\n",
       "      <th>1</th>\n",
       "      <td>2010/07/18</td>\n",
       "      <td>0.0726</td>\n",
       "    </tr>\n",
       "    <tr>\n",
       "      <th>2</th>\n",
       "      <td>2010/07/19</td>\n",
       "      <td>0.0859</td>\n",
       "    </tr>\n",
       "    <tr>\n",
       "      <th>3</th>\n",
       "      <td>2010/07/20</td>\n",
       "      <td>0.0783</td>\n",
       "    </tr>\n",
       "    <tr>\n",
       "      <th>4</th>\n",
       "      <td>2010/07/21</td>\n",
       "      <td>0.0767</td>\n",
       "    </tr>\n",
       "  </tbody>\n",
       "</table>\n",
       "</div>"
      ],
      "text/plain": [
       "         Date  priceUSD\n",
       "0  2010/07/17    0.0495\n",
       "1  2010/07/18    0.0726\n",
       "2  2010/07/19    0.0859\n",
       "3  2010/07/20    0.0783\n",
       "4  2010/07/21    0.0767"
      ]
     },
     "execution_count": 11,
     "metadata": {},
     "output_type": "execute_result"
    }
   ],
   "source": [
    "price_df.head()"
   ]
  },
  {
   "cell_type": "markdown",
   "id": "e01c3e51",
   "metadata": {},
   "source": [
    "## Create a holdout dataset of the 30 days used in the model training notebook"
   ]
  },
  {
   "cell_type": "code",
   "execution_count": 12,
   "id": "747b7b13",
   "metadata": {},
   "outputs": [],
   "source": [
    "date_bool = (df.iloc[:, 0] >= '2021/09/09') & (df.iloc[:, 0] <= '2021/10/08')\n",
    "X_holdout = df[date_bool]"
   ]
  },
  {
   "cell_type": "code",
   "execution_count": 13,
   "id": "37615dc7",
   "metadata": {},
   "outputs": [
    {
     "data": {
      "text/html": [
       "<div>\n",
       "<style scoped>\n",
       "    .dataframe tbody tr th:only-of-type {\n",
       "        vertical-align: middle;\n",
       "    }\n",
       "\n",
       "    .dataframe tbody tr th {\n",
       "        vertical-align: top;\n",
       "    }\n",
       "\n",
       "    .dataframe thead th {\n",
       "        text-align: right;\n",
       "    }\n",
       "</style>\n",
       "<table border=\"1\" class=\"dataframe\">\n",
       "  <thead>\n",
       "    <tr style=\"text-align: right;\">\n",
       "      <th></th>\n",
       "      <th>Date</th>\n",
       "      <th>median_transaction_fee3momUSD</th>\n",
       "      <th>fee_to_reward7momUSD</th>\n",
       "      <th>top100cap7mom</th>\n",
       "      <th>mining_profitability7rsi</th>\n",
       "      <th>top100cap14mom</th>\n",
       "      <th>price3wmaUSD</th>\n",
       "      <th>transactionvalue90emaUSD</th>\n",
       "      <th>difficulty30sma</th>\n",
       "      <th>fee_to_reward90smaUSD</th>\n",
       "    </tr>\n",
       "  </thead>\n",
       "  <tbody>\n",
       "    <tr>\n",
       "      <th>0</th>\n",
       "      <td>2010/07/17</td>\n",
       "      <td>0.0</td>\n",
       "      <td>0.0</td>\n",
       "      <td>-0.508</td>\n",
       "      <td>0.0</td>\n",
       "      <td>-0.088</td>\n",
       "      <td>0.000</td>\n",
       "      <td>0.0</td>\n",
       "      <td>29.004</td>\n",
       "      <td>0.0</td>\n",
       "    </tr>\n",
       "    <tr>\n",
       "      <th>1</th>\n",
       "      <td>2010/07/18</td>\n",
       "      <td>0.0</td>\n",
       "      <td>0.0</td>\n",
       "      <td>-0.477</td>\n",
       "      <td>0.0</td>\n",
       "      <td>-0.327</td>\n",
       "      <td>0.000</td>\n",
       "      <td>0.0</td>\n",
       "      <td>34.476</td>\n",
       "      <td>0.0</td>\n",
       "    </tr>\n",
       "    <tr>\n",
       "      <th>2</th>\n",
       "      <td>2010/07/19</td>\n",
       "      <td>0.0</td>\n",
       "      <td>0.0</td>\n",
       "      <td>-0.184</td>\n",
       "      <td>0.0</td>\n",
       "      <td>-0.490</td>\n",
       "      <td>0.075</td>\n",
       "      <td>0.0</td>\n",
       "      <td>39.948</td>\n",
       "      <td>0.0</td>\n",
       "    </tr>\n",
       "    <tr>\n",
       "      <th>3</th>\n",
       "      <td>2010/07/20</td>\n",
       "      <td>0.0</td>\n",
       "      <td>0.0</td>\n",
       "      <td>0.005</td>\n",
       "      <td>0.0</td>\n",
       "      <td>-0.532</td>\n",
       "      <td>0.080</td>\n",
       "      <td>0.0</td>\n",
       "      <td>45.421</td>\n",
       "      <td>0.0</td>\n",
       "    </tr>\n",
       "    <tr>\n",
       "      <th>4</th>\n",
       "      <td>2010/07/21</td>\n",
       "      <td>0.0</td>\n",
       "      <td>0.0</td>\n",
       "      <td>0.163</td>\n",
       "      <td>0.0</td>\n",
       "      <td>-0.599</td>\n",
       "      <td>0.079</td>\n",
       "      <td>0.0</td>\n",
       "      <td>50.893</td>\n",
       "      <td>0.0</td>\n",
       "    </tr>\n",
       "  </tbody>\n",
       "</table>\n",
       "</div>"
      ],
      "text/plain": [
       "         Date  median_transaction_fee3momUSD  fee_to_reward7momUSD  \\\n",
       "0  2010/07/17                            0.0                   0.0   \n",
       "1  2010/07/18                            0.0                   0.0   \n",
       "2  2010/07/19                            0.0                   0.0   \n",
       "3  2010/07/20                            0.0                   0.0   \n",
       "4  2010/07/21                            0.0                   0.0   \n",
       "\n",
       "   top100cap7mom  mining_profitability7rsi  top100cap14mom  price3wmaUSD  \\\n",
       "0         -0.508                       0.0          -0.088         0.000   \n",
       "1         -0.477                       0.0          -0.327         0.000   \n",
       "2         -0.184                       0.0          -0.490         0.075   \n",
       "3          0.005                       0.0          -0.532         0.080   \n",
       "4          0.163                       0.0          -0.599         0.079   \n",
       "\n",
       "   transactionvalue90emaUSD  difficulty30sma  fee_to_reward90smaUSD  \n",
       "0                       0.0           29.004                    0.0  \n",
       "1                       0.0           34.476                    0.0  \n",
       "2                       0.0           39.948                    0.0  \n",
       "3                       0.0           45.421                    0.0  \n",
       "4                       0.0           50.893                    0.0  "
      ]
     },
     "execution_count": 13,
     "metadata": {},
     "output_type": "execute_result"
    }
   ],
   "source": [
    "X = df.copy()\n",
    "X.head()"
   ]
  },
  {
   "cell_type": "code",
   "execution_count": 14,
   "id": "2f01dd4b",
   "metadata": {},
   "outputs": [],
   "source": [
    "# create a holdout dataset for the price data\n",
    "y = price_df['priceUSD'].copy()\n",
    "\n",
    "# create a row for next day price\n",
    "price_df['next_day_price'] = price_df['priceUSD'].shift(-1)\n",
    "price_bool = (price_df['Date'] >= '2021/09/09')&(price_df['Date'] <= '2021/10/08')\n",
    "holdout_y = price_df[price_bool]"
   ]
  },
  {
   "cell_type": "code",
   "execution_count": 15,
   "id": "a2a9bd48",
   "metadata": {},
   "outputs": [
    {
     "data": {
      "text/html": [
       "<div>\n",
       "<style scoped>\n",
       "    .dataframe tbody tr th:only-of-type {\n",
       "        vertical-align: middle;\n",
       "    }\n",
       "\n",
       "    .dataframe tbody tr th {\n",
       "        vertical-align: top;\n",
       "    }\n",
       "\n",
       "    .dataframe thead th {\n",
       "        text-align: right;\n",
       "    }\n",
       "</style>\n",
       "<table border=\"1\" class=\"dataframe\">\n",
       "  <thead>\n",
       "    <tr style=\"text-align: right;\">\n",
       "      <th></th>\n",
       "      <th>Date</th>\n",
       "      <th>priceUSD</th>\n",
       "      <th>next_day_price</th>\n",
       "    </tr>\n",
       "  </thead>\n",
       "  <tbody>\n",
       "    <tr>\n",
       "      <th>4072</th>\n",
       "      <td>2021/09/09</td>\n",
       "      <td>46406.0</td>\n",
       "      <td>45928.0</td>\n",
       "    </tr>\n",
       "    <tr>\n",
       "      <th>4073</th>\n",
       "      <td>2021/09/10</td>\n",
       "      <td>45928.0</td>\n",
       "      <td>45367.0</td>\n",
       "    </tr>\n",
       "    <tr>\n",
       "      <th>4074</th>\n",
       "      <td>2021/09/11</td>\n",
       "      <td>45367.0</td>\n",
       "      <td>45624.0</td>\n",
       "    </tr>\n",
       "    <tr>\n",
       "      <th>4075</th>\n",
       "      <td>2021/09/12</td>\n",
       "      <td>45624.0</td>\n",
       "      <td>44807.0</td>\n",
       "    </tr>\n",
       "    <tr>\n",
       "      <th>4076</th>\n",
       "      <td>2021/09/13</td>\n",
       "      <td>44807.0</td>\n",
       "      <td>46027.0</td>\n",
       "    </tr>\n",
       "  </tbody>\n",
       "</table>\n",
       "</div>"
      ],
      "text/plain": [
       "            Date  priceUSD  next_day_price\n",
       "4072  2021/09/09   46406.0         45928.0\n",
       "4073  2021/09/10   45928.0         45367.0\n",
       "4074  2021/09/11   45367.0         45624.0\n",
       "4075  2021/09/12   45624.0         44807.0\n",
       "4076  2021/09/13   44807.0         46027.0"
      ]
     },
     "execution_count": 15,
     "metadata": {},
     "output_type": "execute_result"
    }
   ],
   "source": [
    "holdout_y.head()"
   ]
  },
  {
   "cell_type": "markdown",
   "id": "89afd028",
   "metadata": {},
   "source": [
    "## Create the scaler using the same split random state as in the training notebook"
   ]
  },
  {
   "cell_type": "code",
   "execution_count": 16,
   "id": "fe952e87",
   "metadata": {},
   "outputs": [
    {
     "name": "stdout",
     "output_type": "stream",
     "text": [
      "[Pipeline] ............ (step 1 of 2) Processing minmax, total=   0.0s\n",
      "[Pipeline] ............ (step 2 of 2) Processing robust, total=   0.0s\n"
     ]
    }
   ],
   "source": [
    "# extract the data from the dates of Interval 4\n",
    "date_bool = (X.iloc[:, 0] >= '2013/04/01') & (X.iloc[:, 0] <= '2021/09/01')\n",
    "X = X[date_bool]\n",
    "# remove the date column\n",
    "X = X.iloc[:, 1:]\n",
    "# adjust the range of y df\n",
    "y = y[X.index]\n",
    "    \n",
    "# create train test split of data\n",
    "X_train, X_test, y_train, y_test = train_test_split(X, y, test_size=0.2, random_state=15)\n",
    "    \n",
    "# scale the data\n",
    "estimators = [] # create a list for the scalers\n",
    "estimators.append(['minmax', MinMaxScaler()])\n",
    "estimators.append(['robust', RobustScaler()])\n",
    "# add the scalers to the Pipeline\n",
    "scaler = Pipeline(estimators, verbose=True)\n",
    "# fit the scaler to the training data\n",
    "scaler.fit(X_train)\n",
    "# transform the training, testing, and holdout data\n",
    "X_train_tran = scaler.transform(X_train)\n",
    "X_test_tran = scaler.transform(X_test)\n",
    "X_holdout_tran = scaler.transform(X_holdout.iloc[:, 1:])"
   ]
  },
  {
   "cell_type": "markdown",
   "id": "ab04089c",
   "metadata": {},
   "source": [
    "## Test the performance of the scaler"
   ]
  },
  {
   "cell_type": "code",
   "execution_count": 17,
   "id": "aad71e05",
   "metadata": {},
   "outputs": [],
   "source": [
    "# make the prediction\n",
    "pred_next_day_price = ann_model.predict(X_holdout_tran)"
   ]
  },
  {
   "cell_type": "code",
   "execution_count": 18,
   "id": "3fcf7cda",
   "metadata": {},
   "outputs": [
    {
     "data": {
      "text/plain": [
       "array([[47190.62 ],\n",
       "       [46391.094],\n",
       "       [46268.383],\n",
       "       [45928.793],\n",
       "       [45854.363],\n",
       "       [46305.07 ],\n",
       "       [47603.21 ],\n",
       "       [48215.492],\n",
       "       [48753.285],\n",
       "       [48586.21 ],\n",
       "       [48387.203],\n",
       "       [46863.777],\n",
       "       [44517.766],\n",
       "       [43828.266],\n",
       "       [44344.992],\n",
       "       [43995.19 ],\n",
       "       [43532.945],\n",
       "       [43552.953],\n",
       "       [44078.562],\n",
       "       [43460.08 ],\n",
       "       [42964.117],\n",
       "       [43913.12 ],\n",
       "       [45426.953],\n",
       "       [47740.203],\n",
       "       [48561.45 ],\n",
       "       [49103.617],\n",
       "       [50111.14 ],\n",
       "       [52371.492],\n",
       "       [55127.883],\n",
       "       [55803.266]], dtype=float32)"
      ]
     },
     "execution_count": 18,
     "metadata": {},
     "output_type": "execute_result"
    }
   ],
   "source": [
    "pred_next_day_price"
   ]
  },
  {
   "cell_type": "code",
   "execution_count": 19,
   "id": "a9da7dd6",
   "metadata": {},
   "outputs": [
    {
     "data": {
      "text/plain": [
       "0.8053419618810123"
      ]
     },
     "execution_count": 19,
     "metadata": {},
     "output_type": "execute_result"
    }
   ],
   "source": [
    "# compare the prediction to the price holdout data\n",
    "r2_score(holdout_y['next_day_price'],pred_next_day_price)"
   ]
  },
  {
   "cell_type": "markdown",
   "id": "409ab3c3",
   "metadata": {},
   "source": [
    "## The performance is not as good as the model training showed\n",
    "Here using the same holdout data as used in the trianing notebook, there is worse performance with an R-squared of 0.805 rather than an R-squared of 0.971\n",
    "\n",
    "# Save the Scaler"
   ]
  },
  {
   "cell_type": "code",
   "execution_count": 20,
   "id": "a53e3c30",
   "metadata": {},
   "outputs": [
    {
     "data": {
      "text/plain": [
       "['../scaler/scaler.save']"
      ]
     },
     "execution_count": 20,
     "metadata": {},
     "output_type": "execute_result"
    }
   ],
   "source": [
    "scaler_filename = \"../scaler/scaler.save\"\n",
    "joblib.dump(scaler, scaler_filename) \n"
   ]
  },
  {
   "cell_type": "markdown",
   "id": "deae9d98",
   "metadata": {},
   "source": [
    "## Check that the saved scaler loads and performs as expected on predictions"
   ]
  },
  {
   "cell_type": "code",
   "execution_count": 21,
   "id": "bd1e0f9d",
   "metadata": {},
   "outputs": [],
   "source": [
    "# And now to load...\n",
    "\n",
    "scale = joblib.load(scaler_filename) "
   ]
  },
  {
   "cell_type": "code",
   "execution_count": 22,
   "id": "456b4d4d",
   "metadata": {},
   "outputs": [],
   "source": [
    "saved_scaled_holdout = scale.transform(X_holdout.iloc[: , 1:])"
   ]
  },
  {
   "cell_type": "code",
   "execution_count": 23,
   "id": "0ecf578b",
   "metadata": {},
   "outputs": [],
   "source": [
    "saved_scaled_preds = ann_model.predict(saved_scaled_holdout)"
   ]
  },
  {
   "cell_type": "code",
   "execution_count": 24,
   "id": "216f5c38",
   "metadata": {},
   "outputs": [
    {
     "data": {
      "text/plain": [
       "0.8053419618810123"
      ]
     },
     "execution_count": 24,
     "metadata": {},
     "output_type": "execute_result"
    }
   ],
   "source": [
    "r2_score(holdout_y['next_day_price'], saved_scaled_preds)"
   ]
  },
  {
   "cell_type": "markdown",
   "id": "caef7b3f",
   "metadata": {},
   "source": [
    "## Consistent performance from the saved scaler\n",
    "The scaler has been saved and when loaded scales the data to perform consistent model prediction\n",
    "\n",
    "## View the scaler values to know what is going on"
   ]
  },
  {
   "cell_type": "code",
   "execution_count": 25,
   "id": "1224e8f8",
   "metadata": {},
   "outputs": [],
   "source": [
    "\n",
    "# view the values for the scaling function\n",
    "minmax_scales = scale.named_steps['minmax'].scale_\n",
    "robust_scales = scale.named_steps['robust'].scale_"
   ]
  },
  {
   "cell_type": "code",
   "execution_count": 26,
   "id": "67350100",
   "metadata": {},
   "outputs": [
    {
     "data": {
      "text/plain": [
       "array([3.63821582e-02, 2.10482004e-02, 2.38714760e-02, 1.50084798e-02,\n",
       "       2.40274874e-02, 1.59020548e-05, 2.23485162e-06, 4.28164288e-14,\n",
       "       5.19831575e-02])"
      ]
     },
     "execution_count": 26,
     "metadata": {},
     "output_type": "execute_result"
    }
   ],
   "source": [
    "minmax_scales"
   ]
  },
  {
   "cell_type": "code",
   "execution_count": 27,
   "id": "c3694057",
   "metadata": {},
   "outputs": [
    {
     "data": {
      "text/plain": [
       "array([0.00146438, 0.01236056, 0.00432074, 0.16988849, 0.0071662 ,\n",
       "       0.13195934, 0.07074367, 0.35705017, 0.27083225])"
      ]
     },
     "execution_count": 27,
     "metadata": {},
     "output_type": "execute_result"
    }
   ],
   "source": [
    "robust_scales"
   ]
  },
  {
   "cell_type": "code",
   "execution_count": null,
   "id": "fb9ac8d9",
   "metadata": {},
   "outputs": [],
   "source": []
  }
 ],
 "metadata": {
  "kernelspec": {
   "display_name": "Python 3 (ipykernel)",
   "language": "python",
   "name": "python3"
  },
  "language_info": {
   "codemirror_mode": {
    "name": "ipython",
    "version": 3
   },
   "file_extension": ".py",
   "mimetype": "text/x-python",
   "name": "python",
   "nbconvert_exporter": "python",
   "pygments_lexer": "ipython3",
   "version": "3.8.8"
  }
 },
 "nbformat": 4,
 "nbformat_minor": 5
}
