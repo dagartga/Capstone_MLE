{
 "cells": [
  {
   "cell_type": "markdown",
   "id": "e1807009",
   "metadata": {},
   "source": [
    "# Create the pickle file for the Pipeline Scaler\n",
    "\n",
    "The scaler values must be stored so that the scaler can be applied on the new data collected each day.\n",
    "\n",
    "The best interval used for the ANN model was Interval 4 (April 01, 2013 to September 01, 2021) so that is the date range for the data to be used to fit the scaler. \n",
    "\n",
    "That was the way the scaler was created in the notebook Bitcoin Next Day Price Prediction Using ANN Models. The exact scaler for those models was not stored so this will be the process to recreate it."
   ]
  },
  {
   "cell_type": "code",
   "execution_count": 44,
   "id": "d0c9cfc9",
   "metadata": {},
   "outputs": [],
   "source": [
    "from model import get_full_dataset\n",
    "\n",
    "\n",
    "# get the full dataset from bitinfocharts\n",
    "df = get_full_dataset()"
   ]
  },
  {
   "cell_type": "code",
   "execution_count": 45,
   "id": "4419b06b",
   "metadata": {},
   "outputs": [
    {
     "data": {
      "text/html": [
       "<div>\n",
       "<style scoped>\n",
       "    .dataframe tbody tr th:only-of-type {\n",
       "        vertical-align: middle;\n",
       "    }\n",
       "\n",
       "    .dataframe tbody tr th {\n",
       "        vertical-align: top;\n",
       "    }\n",
       "\n",
       "    .dataframe thead th {\n",
       "        text-align: right;\n",
       "    }\n",
       "</style>\n",
       "<table border=\"1\" class=\"dataframe\">\n",
       "  <thead>\n",
       "    <tr style=\"text-align: right;\">\n",
       "      <th></th>\n",
       "      <th>Date</th>\n",
       "      <th>median_transaction_fee3momUSD</th>\n",
       "      <th>fee_to_reward7momUSD</th>\n",
       "      <th>top100cap7mom</th>\n",
       "      <th>mining_profitability7rsi</th>\n",
       "      <th>top100cap14mom</th>\n",
       "      <th>price3wmaUSD</th>\n",
       "      <th>transactionvalue90emaUSD</th>\n",
       "      <th>difficulty30sma</th>\n",
       "      <th>fee_to_reward90smaUSD</th>\n",
       "    </tr>\n",
       "  </thead>\n",
       "  <tbody>\n",
       "    <tr>\n",
       "      <th>0</th>\n",
       "      <td>2010/07/17</td>\n",
       "      <td>0.0</td>\n",
       "      <td>0.0</td>\n",
       "      <td>-0.508</td>\n",
       "      <td>0.0</td>\n",
       "      <td>-0.088</td>\n",
       "      <td>0.000</td>\n",
       "      <td>0.0</td>\n",
       "      <td>29.004</td>\n",
       "      <td>0.0</td>\n",
       "    </tr>\n",
       "    <tr>\n",
       "      <th>1</th>\n",
       "      <td>2010/07/18</td>\n",
       "      <td>0.0</td>\n",
       "      <td>0.0</td>\n",
       "      <td>-0.477</td>\n",
       "      <td>0.0</td>\n",
       "      <td>-0.327</td>\n",
       "      <td>0.000</td>\n",
       "      <td>0.0</td>\n",
       "      <td>34.476</td>\n",
       "      <td>0.0</td>\n",
       "    </tr>\n",
       "    <tr>\n",
       "      <th>2</th>\n",
       "      <td>2010/07/19</td>\n",
       "      <td>0.0</td>\n",
       "      <td>0.0</td>\n",
       "      <td>-0.184</td>\n",
       "      <td>0.0</td>\n",
       "      <td>-0.490</td>\n",
       "      <td>0.075</td>\n",
       "      <td>0.0</td>\n",
       "      <td>39.948</td>\n",
       "      <td>0.0</td>\n",
       "    </tr>\n",
       "    <tr>\n",
       "      <th>3</th>\n",
       "      <td>2010/07/20</td>\n",
       "      <td>0.0</td>\n",
       "      <td>0.0</td>\n",
       "      <td>0.005</td>\n",
       "      <td>0.0</td>\n",
       "      <td>-0.532</td>\n",
       "      <td>0.080</td>\n",
       "      <td>0.0</td>\n",
       "      <td>45.421</td>\n",
       "      <td>0.0</td>\n",
       "    </tr>\n",
       "    <tr>\n",
       "      <th>4</th>\n",
       "      <td>2010/07/21</td>\n",
       "      <td>0.0</td>\n",
       "      <td>0.0</td>\n",
       "      <td>0.163</td>\n",
       "      <td>0.0</td>\n",
       "      <td>-0.599</td>\n",
       "      <td>0.079</td>\n",
       "      <td>0.0</td>\n",
       "      <td>50.893</td>\n",
       "      <td>0.0</td>\n",
       "    </tr>\n",
       "  </tbody>\n",
       "</table>\n",
       "</div>"
      ],
      "text/plain": [
       "         Date  median_transaction_fee3momUSD  fee_to_reward7momUSD  \\\n",
       "0  2010/07/17                            0.0                   0.0   \n",
       "1  2010/07/18                            0.0                   0.0   \n",
       "2  2010/07/19                            0.0                   0.0   \n",
       "3  2010/07/20                            0.0                   0.0   \n",
       "4  2010/07/21                            0.0                   0.0   \n",
       "\n",
       "   top100cap7mom  mining_profitability7rsi  top100cap14mom  price3wmaUSD  \\\n",
       "0         -0.508                       0.0          -0.088         0.000   \n",
       "1         -0.477                       0.0          -0.327         0.000   \n",
       "2         -0.184                       0.0          -0.490         0.075   \n",
       "3          0.005                       0.0          -0.532         0.080   \n",
       "4          0.163                       0.0          -0.599         0.079   \n",
       "\n",
       "   transactionvalue90emaUSD  difficulty30sma  fee_to_reward90smaUSD  \n",
       "0                       0.0           29.004                    0.0  \n",
       "1                       0.0           34.476                    0.0  \n",
       "2                       0.0           39.948                    0.0  \n",
       "3                       0.0           45.421                    0.0  \n",
       "4                       0.0           50.893                    0.0  "
      ]
     },
     "execution_count": 45,
     "metadata": {},
     "output_type": "execute_result"
    }
   ],
   "source": [
    "df.head()"
   ]
  },
  {
   "cell_type": "code",
   "execution_count": 46,
   "id": "c91ae594",
   "metadata": {},
   "outputs": [
    {
     "data": {
      "text/html": [
       "<div>\n",
       "<style scoped>\n",
       "    .dataframe tbody tr th:only-of-type {\n",
       "        vertical-align: middle;\n",
       "    }\n",
       "\n",
       "    .dataframe tbody tr th {\n",
       "        vertical-align: top;\n",
       "    }\n",
       "\n",
       "    .dataframe thead th {\n",
       "        text-align: right;\n",
       "    }\n",
       "</style>\n",
       "<table border=\"1\" class=\"dataframe\">\n",
       "  <thead>\n",
       "    <tr style=\"text-align: right;\">\n",
       "      <th></th>\n",
       "      <th>Date</th>\n",
       "      <th>median_transaction_fee3momUSD</th>\n",
       "      <th>fee_to_reward7momUSD</th>\n",
       "      <th>top100cap7mom</th>\n",
       "      <th>mining_profitability7rsi</th>\n",
       "      <th>top100cap14mom</th>\n",
       "      <th>price3wmaUSD</th>\n",
       "      <th>transactionvalue90emaUSD</th>\n",
       "      <th>difficulty30sma</th>\n",
       "      <th>fee_to_reward90smaUSD</th>\n",
       "    </tr>\n",
       "  </thead>\n",
       "  <tbody>\n",
       "    <tr>\n",
       "      <th>4099</th>\n",
       "      <td>2021/10/06</td>\n",
       "      <td>0.597</td>\n",
       "      <td>0.782</td>\n",
       "      <td>-0.096</td>\n",
       "      <td>46.344</td>\n",
       "      <td>-0.445</td>\n",
       "      <td>51045.0</td>\n",
       "      <td>662624.0</td>\n",
       "      <td>1.874669e+13</td>\n",
       "      <td>1.551</td>\n",
       "    </tr>\n",
       "    <tr>\n",
       "      <th>4100</th>\n",
       "      <td>2021/10/07</td>\n",
       "      <td>1.033</td>\n",
       "      <td>1.604</td>\n",
       "      <td>-0.158</td>\n",
       "      <td>61.109</td>\n",
       "      <td>-0.499</td>\n",
       "      <td>53095.0</td>\n",
       "      <td>664606.0</td>\n",
       "      <td>1.882262e+13</td>\n",
       "      <td>1.549</td>\n",
       "    </tr>\n",
       "    <tr>\n",
       "      <th>4101</th>\n",
       "      <td>2021/10/08</td>\n",
       "      <td>0.931</td>\n",
       "      <td>0.859</td>\n",
       "      <td>-0.032</td>\n",
       "      <td>50.210</td>\n",
       "      <td>-0.411</td>\n",
       "      <td>54124.0</td>\n",
       "      <td>667106.0</td>\n",
       "      <td>1.887226e+13</td>\n",
       "      <td>1.558</td>\n",
       "    </tr>\n",
       "    <tr>\n",
       "      <th>4102</th>\n",
       "      <td>2021/10/09</td>\n",
       "      <td>-0.015</td>\n",
       "      <td>0.622</td>\n",
       "      <td>-0.047</td>\n",
       "      <td>58.389</td>\n",
       "      <td>-0.418</td>\n",
       "      <td>54574.0</td>\n",
       "      <td>668069.0</td>\n",
       "      <td>1.892153e+13</td>\n",
       "      <td>1.549</td>\n",
       "    </tr>\n",
       "    <tr>\n",
       "      <th>4103</th>\n",
       "      <td>2021/10/10</td>\n",
       "      <td>-0.547</td>\n",
       "      <td>0.211</td>\n",
       "      <td>-0.040</td>\n",
       "      <td>53.873</td>\n",
       "      <td>-0.095</td>\n",
       "      <td>54887.0</td>\n",
       "      <td>669472.0</td>\n",
       "      <td>1.897079e+13</td>\n",
       "      <td>1.524</td>\n",
       "    </tr>\n",
       "  </tbody>\n",
       "</table>\n",
       "</div>"
      ],
      "text/plain": [
       "            Date  median_transaction_fee3momUSD  fee_to_reward7momUSD  \\\n",
       "4099  2021/10/06                          0.597                 0.782   \n",
       "4100  2021/10/07                          1.033                 1.604   \n",
       "4101  2021/10/08                          0.931                 0.859   \n",
       "4102  2021/10/09                         -0.015                 0.622   \n",
       "4103  2021/10/10                         -0.547                 0.211   \n",
       "\n",
       "      top100cap7mom  mining_profitability7rsi  top100cap14mom  price3wmaUSD  \\\n",
       "4099         -0.096                    46.344          -0.445       51045.0   \n",
       "4100         -0.158                    61.109          -0.499       53095.0   \n",
       "4101         -0.032                    50.210          -0.411       54124.0   \n",
       "4102         -0.047                    58.389          -0.418       54574.0   \n",
       "4103         -0.040                    53.873          -0.095       54887.0   \n",
       "\n",
       "      transactionvalue90emaUSD  difficulty30sma  fee_to_reward90smaUSD  \n",
       "4099                  662624.0     1.874669e+13                  1.551  \n",
       "4100                  664606.0     1.882262e+13                  1.549  \n",
       "4101                  667106.0     1.887226e+13                  1.558  \n",
       "4102                  668069.0     1.892153e+13                  1.549  \n",
       "4103                  669472.0     1.897079e+13                  1.524  "
      ]
     },
     "execution_count": 46,
     "metadata": {},
     "output_type": "execute_result"
    }
   ],
   "source": [
    "df.tail()"
   ]
  },
  {
   "cell_type": "markdown",
   "id": "a57b1f6a",
   "metadata": {},
   "source": [
    "## Create and fit the Pipeline Scaler"
   ]
  },
  {
   "cell_type": "code",
   "execution_count": 47,
   "id": "9e2d49b6",
   "metadata": {},
   "outputs": [
    {
     "name": "stdout",
     "output_type": "stream",
     "text": [
      "[Pipeline] ............ (step 1 of 2) Processing minmax, total=   0.0s\n",
      "[Pipeline] ............ (step 2 of 2) Processing robust, total=   0.0s\n"
     ]
    },
    {
     "data": {
      "text/plain": [
       "Pipeline(steps=[('minmax', MinMaxScaler()), ['robust', RobustScaler()]],\n",
       "         verbose=True)"
      ]
     },
     "execution_count": 47,
     "metadata": {},
     "output_type": "execute_result"
    }
   ],
   "source": [
    "from sklearn.preprocessing import MinMaxScaler, RobustScaler\n",
    "from sklearn.pipeline import Pipeline\n",
    "\n",
    "# extract the data from the dates of Interval 4\n",
    "date_bool = (df.iloc[:, 0] >= '2013/04/01') & (df.iloc[:, 0] <= '2021/09/01')\n",
    "X = df[date_bool]\n",
    "# remove the date column\n",
    "X = df.iloc[:, 1:]\n",
    "\n",
    "# select only the features desired\n",
    "features = [\n",
    "            'median_transaction_fee3momUSD',\n",
    "            'fee_to_reward7momUSD',\n",
    "            'top100cap7mom',\n",
    "            'mining_profitability7rsi',\n",
    "            'top100cap14mom',\n",
    "            'price3wmaUSD',\n",
    "            'transactionvalue90emaUSD',\n",
    "            'difficulty30sma',\n",
    "            'fee_to_reward90smaUSD'\n",
    "            ]\n",
    "\n",
    "X = X.loc[:, features]\n",
    "\n",
    "# scale the data\n",
    "estimators = [] # create a list for the scalers\n",
    "estimators.append(['minmax', MinMaxScaler()])\n",
    "estimators.append(['robust', RobustScaler()])\n",
    "# add the scalers to the Pipeline\n",
    "scale = Pipeline(estimators, verbose=True)\n",
    "# fit the scaler to the training data\n",
    "scale.fit(X)"
   ]
  },
  {
   "cell_type": "markdown",
   "id": "5b536ce1",
   "metadata": {},
   "source": [
    "## Save the pickle file"
   ]
  },
  {
   "cell_type": "code",
   "execution_count": 48,
   "id": "8a9a8cc7",
   "metadata": {},
   "outputs": [],
   "source": [
    "import pickle\n",
    "\n",
    "# open the scaler pickle file\n",
    "outfile = open('./scaler/final_scaler.pkl', 'wb')\n",
    "\n",
    "pickle.dump(scale, outfile)\n",
    "\n",
    "outfile.close()"
   ]
  },
  {
   "cell_type": "markdown",
   "id": "9fab7a50",
   "metadata": {},
   "source": [
    "## Test the scaler pickle file"
   ]
  },
  {
   "cell_type": "code",
   "execution_count": 49,
   "id": "acde3960",
   "metadata": {},
   "outputs": [],
   "source": [
    "def preprocess_the_data():\n",
    "    \"\"\"\n",
    "        Takes in the dataframe from either today's or yesterday's features\n",
    "        Loads the pickle file of the scaler\n",
    "        Scales the data and returns a df and the date of the data\n",
    "    \"\"\"\n",
    "    \n",
    "    import pickle\n",
    "    from btcinfocharts_scraper import grab_the_data\n",
    "\n",
    "    # load the pickle file of the scaler\n",
    "    infile = open('./scaler/final_scaler.pkl', 'rb')\n",
    "    scale = pickle.load(infile)\n",
    "    infile.close()\n",
    "\n",
    "    # get the new dataset for the most recent data\n",
    "    new_df, todays_date = grab_the_data()\n",
    "\n",
    "    # scale the new data\n",
    "    transformed_new_data = scale.transform(new_df)\n",
    "\n",
    "    return transformed_new_data, todays_date"
   ]
  },
  {
   "cell_type": "code",
   "execution_count": 50,
   "id": "f9cb4a8e",
   "metadata": {},
   "outputs": [
    {
     "name": "stdout",
     "output_type": "stream",
     "text": [
      "[3.07219662e-02 1.90038198e-02 2.38714760e-02 1.09717696e-02\n",
      " 2.40274874e-02 1.58846142e-05 1.49371445e-06 4.28164193e-14\n",
      " 5.12505125e-02]\n",
      "[0.0002765  0.00661333 0.00523382 0.13074235 0.00834355 0.11472389\n",
      " 0.04178629 0.26707841 0.19946699]\n"
     ]
    }
   ],
   "source": [
    "import pickle\n",
    "# load the pickle file of the scaler\n",
    "infile = open('./scaler/final_scaler.pkl', 'rb')\n",
    "scale = pickle.load(infile)\n",
    "\n",
    "# view the values for the scaling function\n",
    "minmax_scales = scale.named_steps['minmax'].scale_\n",
    "robust_scales = scale.named_steps['robust'].scale_\n",
    "\n",
    "infile.close()\n",
    "\n",
    "print(minmax_scales)\n",
    "print(robust_scales)"
   ]
  },
  {
   "cell_type": "code",
   "execution_count": 53,
   "id": "a97bae20",
   "metadata": {},
   "outputs": [
    {
     "name": "stdout",
     "output_type": "stream",
     "text": [
      "All of the data for today 2022-04-04 is available.\n",
      "Today's 2022-04-04 data will be used\n",
      "\n",
      "Date: 2022/04/04\n",
      "\n",
      "Features Data: \n",
      " [[ 7.46666667e+01  3.60919540e+00  7.06590650e+01 -4.01275569e+00\n",
      "   4.46105112e+01  6.29118702e+00  2.09676047e+01  4.56000570e+00\n",
      "   2.27389517e-02]]\n"
     ]
    }
   ],
   "source": [
    "# test the full preprocess function\n",
    "todays_df, todays_date = preprocess_the_data()\n",
    "\n",
    "# view the scaled current data\n",
    "print('\\nDate:', todays_date)\n",
    "print('\\nFeatures Data:\\n', todays_df)"
   ]
  },
  {
   "cell_type": "markdown",
   "id": "d97eb288",
   "metadata": {},
   "source": [
    "### The Scaler has been stored as a pickle file and can be loaded and used to transform the data from bitinforcharts.org"
   ]
  }
 ],
 "metadata": {
  "kernelspec": {
   "display_name": "Python 3 (ipykernel)",
   "language": "python",
   "name": "python3"
  },
  "language_info": {
   "codemirror_mode": {
    "name": "ipython",
    "version": 3
   },
   "file_extension": ".py",
   "mimetype": "text/x-python",
   "name": "python",
   "nbconvert_exporter": "python",
   "pygments_lexer": "ipython3",
   "version": "3.7.11"
  }
 },
 "nbformat": 4,
 "nbformat_minor": 5
}
