{
 "cells": [
  {
   "cell_type": "code",
   "execution_count": 1,
   "id": "19038814",
   "metadata": {},
   "outputs": [],
   "source": [
    "from btcinfocharts_scraper import grab_the_data"
   ]
  },
  {
   "cell_type": "code",
   "execution_count": 5,
   "id": "50ac3989",
   "metadata": {},
   "outputs": [
    {
     "name": "stdout",
     "output_type": "stream",
     "text": [
      "Not all the data is available for today, 2022-04-17.\n",
      "Instead yesterday's 2022-04-16 data will be used.\n"
     ]
    }
   ],
   "source": [
    "df, day = grab_the_data()"
   ]
  },
  {
   "cell_type": "code",
   "execution_count": 18,
   "id": "bc4abf9c",
   "metadata": {},
   "outputs": [],
   "source": [
    "from datetime import date, timedelta\n",
    "import re\n",
    "import pandas as pd\n",
    "from bs4 import BeautifulSoup #module for web scraping install by pip install beautifulsoup4\n",
    "import requests #for requesting html. install by pip install requests\n",
    "from requests.adapters import HTTPAdapter\n",
    "from requests.packages.urllib3.util.retry import Retry\n",
    "import re #regular expression for data extraction by pattern matching. installed by default."
   ]
  },
  {
   "cell_type": "code",
   "execution_count": 11,
   "id": "820e4c2f",
   "metadata": {},
   "outputs": [
    {
     "name": "stdout",
     "output_type": "stream",
     "text": [
      "2022/04/16 2022/04/17\n"
     ]
    }
   ],
   "source": [
    "\n",
    "# get the current date\n",
    "today_var1 = date.today()\n",
    "today = str(today_var1).replace('-', '/')\n",
    "\n",
    "\n",
    "# get the current date\n",
    "today_var2 = date.today()\n",
    "#subtract one day\n",
    "yestday = today_var2 - timedelta(days=1)\n",
    "\n",
    "yesterday = str(yestday).replace('-', '/')\n",
    "  \n",
    "print(yesterday, today)"
   ]
  },
  {
   "cell_type": "code",
   "execution_count": 15,
   "id": "75f7630a",
   "metadata": {},
   "outputs": [
    {
     "name": "stdout",
     "output_type": "stream",
     "text": [
      "['https://bitinfocharts.com/comparison/median_transaction_fee-btc-3momUSD.html', 'https://bitinfocharts.com/comparison/fee_to_reward-btc-7momUSD.html', 'https://bitinfocharts.com/comparison/top100cap-btc-7mom.html', 'https://bitinfocharts.com/comparison/mining_profitability-btc-7rsi.html', 'https://bitinfocharts.com/comparison/top100cap-btc-14mom.html', 'https://bitinfocharts.com/comparison/price-btc-3wmaUSD.html', 'https://bitinfocharts.com/comparison/transactionvalue-btc-90emaUSD.html', 'https://bitinfocharts.com/comparison/difficulty-btc-30sma.html', 'https://bitinfocharts.com/comparison/fee_to_reward-btc-90smaUSD.html']\n",
      "\n",
      " ['median_transaction_fee3momUSD', 'fee_to_reward7momUSD', 'top100cap7mom', 'mining_profitability7rsi', 'top100cap14mom', 'price3wmaUSD', 'transactionvalue90emaUSD', 'difficulty30sma', 'fee_to_reward90smaUSD']\n"
     ]
    }
   ],
   "source": [
    "# the list of features to scrape\n",
    "features = [\n",
    "                'median_transaction_fee3momUSD',\n",
    "                'fee_to_reward7momUSD',\n",
    "                'top100cap7mom',\n",
    "                'mining_profitability7rsi',\n",
    "                'top100cap14mom',\n",
    "                'price3wmaUSD',\n",
    "                'transactionvalue90emaUSD',\n",
    "                'difficulty30sma',\n",
    "                'fee_to_reward90smaUSD'\n",
    "                ]\n",
    "\n",
    "url_list = []\n",
    "\n",
    "for feat in features:\n",
    "    regex = re.compile(r'(top100cap|[a-z_]+)(\\d+\\w+)')\n",
    "    re_result = regex.search(feat)\n",
    "\n",
    "    feat = re_result.group(1)\n",
    "    trans = re_result.group(2)\n",
    "\n",
    "    url='https://bitinfocharts.com/comparison/'+feat+'-'+'btc'+'-'+trans+'.html'\n",
    "    url_list.append(url)\n",
    "\n",
    "\n",
    "print(url_list)\n",
    "print('\\n', features)"
   ]
  },
  {
   "cell_type": "code",
   "execution_count": 16,
   "id": "a5c5d24a",
   "metadata": {},
   "outputs": [
    {
     "name": "stdout",
     "output_type": "stream",
     "text": [
      "                                                 URL\n",
      "0  https://bitinfocharts.com/comparison/median_tr...\n",
      "1  https://bitinfocharts.com/comparison/fee_to_re...\n",
      "2  https://bitinfocharts.com/comparison/top100cap...\n",
      "3  https://bitinfocharts.com/comparison/mining_pr...\n",
      "4  https://bitinfocharts.com/comparison/top100cap...\n",
      "5  https://bitinfocharts.com/comparison/price-btc...\n",
      "6  https://bitinfocharts.com/comparison/transacti...\n",
      "7  https://bitinfocharts.com/comparison/difficult...\n",
      "8  https://bitinfocharts.com/comparison/fee_to_re...\n",
      "\n",
      "                         Features\n",
      "0  median_transaction_fee3momUSD\n",
      "1           fee_to_reward7momUSD\n",
      "2                  top100cap7mom\n",
      "3       mining_profitability7rsi\n",
      "4                 top100cap14mom\n",
      "5                   price3wmaUSD\n",
      "6       transactionvalue90emaUSD\n",
      "7                difficulty30sma\n",
      "8          fee_to_reward90smaUSD\n"
     ]
    }
   ],
   "source": [
    "df_features=pd.DataFrame(features,columns=['Features']) # convert feature list to dataframe\n",
    "df_url=pd.DataFrame(url_list,columns=['URL']) # convert url list to dataframe\n",
    "\n",
    "assert len(df_features) == len(df_url)\n",
    "\n",
    "print(df_url) \n",
    "print('\\n', df_features)"
   ]
  },
  {
   "cell_type": "code",
   "execution_count": 22,
   "id": "445c76ae",
   "metadata": {},
   "outputs": [],
   "source": [
    "url_list = ['https://bitinfocharts.com/comparison/median_transaction_fee-btc-3momUSD.html',\n",
    "            'https://bitinfocharts.com/comparison/fee_to_reward-btc-7momUSD.html',\n",
    "            'https://bitinfocharts.com/comparison/top100cap-btc-7mom.html',\n",
    "            'https://bitinfocharts.com/comparison/mining_profitability-btc-7rsi.html',\n",
    "            'https://bitinfocharts.com/comparison/top100cap-btc-14mom.html',\n",
    "            'https://bitinfocharts.com/comparison/price-btc-3wmaUSD.html',\n",
    "            'https://bitinfocharts.com/comparison/transactionvalue-btc-90emaUSD.html',\n",
    "            'https://bitinfocharts.com/comparison/difficulty-btc-30sma.html',\n",
    "            'https://bitinfocharts.com/comparison/fee_to_reward-btc-90smaUSD.html']"
   ]
  },
  {
   "cell_type": "code",
   "execution_count": 25,
   "id": "acf6b524",
   "metadata": {},
   "outputs": [
    {
     "data": {
      "text/html": [
       "<div>\n",
       "<style scoped>\n",
       "    .dataframe tbody tr th:only-of-type {\n",
       "        vertical-align: middle;\n",
       "    }\n",
       "\n",
       "    .dataframe tbody tr th {\n",
       "        vertical-align: top;\n",
       "    }\n",
       "\n",
       "    .dataframe thead th {\n",
       "        text-align: right;\n",
       "    }\n",
       "</style>\n",
       "<table border=\"1\" class=\"dataframe\">\n",
       "  <thead>\n",
       "    <tr style=\"text-align: right;\">\n",
       "      <th></th>\n",
       "      <th>2022/04/17</th>\n",
       "      <th>2022/04/16</th>\n",
       "    </tr>\n",
       "  </thead>\n",
       "  <tbody>\n",
       "    <tr>\n",
       "      <th>median_transaction_fee3momUSD</th>\n",
       "      <td>None</td>\n",
       "      <td>0.332</td>\n",
       "    </tr>\n",
       "    <tr>\n",
       "      <th>fee_to_reward7momUSD</th>\n",
       "      <td>None</td>\n",
       "      <td>0.762</td>\n",
       "    </tr>\n",
       "    <tr>\n",
       "      <th>top100cap7mom</th>\n",
       "      <td>15.423</td>\n",
       "      <td>15.423</td>\n",
       "    </tr>\n",
       "    <tr>\n",
       "      <th>mining_profitability7rsi</th>\n",
       "      <td>None</td>\n",
       "      <td>0.174</td>\n",
       "    </tr>\n",
       "    <tr>\n",
       "      <th>top100cap14mom</th>\n",
       "      <td>15.423</td>\n",
       "      <td>15.423</td>\n",
       "    </tr>\n",
       "    <tr>\n",
       "      <th>price3wmaUSD</th>\n",
       "      <td>40013</td>\n",
       "      <td>40399</td>\n",
       "    </tr>\n",
       "    <tr>\n",
       "      <th>transactionvalue90emaUSD</th>\n",
       "      <td>None</td>\n",
       "      <td>571615</td>\n",
       "    </tr>\n",
       "    <tr>\n",
       "      <th>difficulty30sma</th>\n",
       "      <td>None</td>\n",
       "      <td>28225928151211</td>\n",
       "    </tr>\n",
       "    <tr>\n",
       "      <th>fee_to_reward90smaUSD</th>\n",
       "      <td>None</td>\n",
       "      <td>0.762</td>\n",
       "    </tr>\n",
       "  </tbody>\n",
       "</table>\n",
       "</div>"
      ],
      "text/plain": [
       "                              2022/04/17      2022/04/16\n",
       "median_transaction_fee3momUSD       None           0.332\n",
       "fee_to_reward7momUSD                None           0.762\n",
       "top100cap7mom                     15.423          15.423\n",
       "mining_profitability7rsi            None           0.174\n",
       "top100cap14mom                    15.423          15.423\n",
       "price3wmaUSD                       40013           40399\n",
       "transactionvalue90emaUSD            None          571615\n",
       "difficulty30sma                     None  28225928151211\n",
       "fee_to_reward90smaUSD               None           0.762"
      ]
     },
     "execution_count": 25,
     "metadata": {},
     "output_type": "execute_result"
    }
   ],
   "source": [
    "for x in range(len(url_list)):\n",
    "    \n",
    "    url = url_list[x]\n",
    "    feature = features[x]\n",
    "\n",
    "    session = requests.Session()\n",
    "    retry = Retry(connect=10, backoff_factor=3)\n",
    "    adapter = HTTPAdapter(max_retries=retry)\n",
    "    session.mount('http://', adapter)\n",
    "    session.mount('https://', adapter)\n",
    "    page=session.get(url)\n",
    "\n",
    "    #create the beautiful soup object\n",
    "    soup = BeautifulSoup(page.content, 'html.parser')\n",
    "    # extract the portion with dates and values\n",
    "    all_soup = soup.find_all('script')[4]\n",
    "    # convert the data into string format\n",
    "    soup_string = str(all_soup.string)\n",
    "\n",
    "    # assign current date\n",
    "    tday = today # create this variable in the code\n",
    "\n",
    "    # create a regular expression for extracting the value associated with the date\n",
    "    regex = tday + '\\\"\\),([0-9\\.]+)'\n",
    "    soup_regex = re.compile(regex)\n",
    "    # call that regular expression on the html string\n",
    "    regex_result = soup_regex.search(soup_string)\n",
    "\n",
    "    # create a conditional statement for when current date's data has not been posted\n",
    "    if regex_result is None:\n",
    "        today_feat_val = None\n",
    "    else:\n",
    "        today_feat_val = regex_result.group(1)\n",
    "\n",
    "    # extract values for yesterday\n",
    "    yday = yesterday # create this variable in the code\n",
    "    regex = yday + '\\\"\\),([0-9\\.]+)'\n",
    "    soup_regex = re.compile(regex)\n",
    "    regex_result = soup_regex.search(soup_string)\n",
    "\n",
    "    # isolate just the feature value for the current date\n",
    "    yesterday_feat_val = regex_result.group(1)\n",
    "\n",
    "    # create a dictionary for each day and the values\n",
    "    feat_val_dic = {\n",
    "                    tday:\n",
    "                        {feature:today_feat_val},\n",
    "                    yday:\n",
    "                        {feature:yesterday_feat_val}\n",
    "                   }\n",
    "\n",
    "\n",
    "    if x == 0:\n",
    "        df = pd.DataFrame.from_dict(feat_val_dic)\n",
    "    else:\n",
    "        df_2 = pd.DataFrame.from_dict(feat_val_dic)\n",
    "        df = pd.concat([df, df_2])\n",
    "        \n",
    "        \n",
    "df"
   ]
  },
  {
   "cell_type": "code",
   "execution_count": 26,
   "id": "1461e4e6",
   "metadata": {},
   "outputs": [],
   "source": [
    "# create a list of values for today to check for None type\n",
    "today_val_list = [val for val in df.iloc[:, 0]]\n",
    "\n",
    "# get the current date\n",
    "tday = date.today()\n",
    "#subtract one day\n",
    "yday = tday - timedelta(days=1)"
   ]
  },
  {
   "cell_type": "code",
   "execution_count": 28,
   "id": "4326d5a0",
   "metadata": {},
   "outputs": [
    {
     "name": "stdout",
     "output_type": "stream",
     "text": [
      "Not all the data is available for today, 2022-04-17.\n",
      "Instead yesterday's 2022-04-16 data will be used.\n",
      "           median_transaction_fee3momUSD fee_to_reward7momUSD top100cap7mom  \\\n",
      "2022/04/16                         0.332                0.762        15.423   \n",
      "\n",
      "           mining_profitability7rsi top100cap14mom price3wmaUSD  \\\n",
      "2022/04/16                    0.174         15.423        40399   \n",
      "\n",
      "           transactionvalue90emaUSD difficulty30sma fee_to_reward90smaUSD  \n",
      "2022/04/16                   571615  28225928151211                 0.762   2022/04/16\n"
     ]
    }
   ],
   "source": [
    "# check if None is in today's date\n",
    "if None in today_val_list:\n",
    "    print('Not all the data is available for today, {}.'.format(tday))\n",
    "    print('Instead yesterday\\'s {} data will be used.'.format(yday))\n",
    "    # create a dataframe from yesterday's data to be returned\n",
    "    yesterday_df = pd.DataFrame(df.iloc[:,1])\n",
    "    yesterday_df = yesterday_df.T\n",
    "    print(yesterday_df, yday.strftime('%Y/%m/%d'))\n",
    "\n",
    "else:\n",
    "    print('All of the data for today {} is available.'.format(tday))\n",
    "    print('Today\\'s {} data will be used'.format(tday))\n",
    "    # create a dataframe from today's data to be returned\n",
    "    today_df = pd.DataFrame(df.iloc[:, 0])\n",
    "    today_df = today_df.T\n",
    "    print(today_df, tday.strftime('%Y/%m/%d'))"
   ]
  },
  {
   "cell_type": "code",
   "execution_count": null,
   "id": "44bbf991",
   "metadata": {},
   "outputs": [],
   "source": []
  }
 ],
 "metadata": {
  "kernelspec": {
   "display_name": "Python 3",
   "language": "python",
   "name": "python3"
  },
  "language_info": {
   "codemirror_mode": {
    "name": "ipython",
    "version": 3
   },
   "file_extension": ".py",
   "mimetype": "text/x-python",
   "name": "python",
   "nbconvert_exporter": "python",
   "pygments_lexer": "ipython3",
   "version": "3.6.13"
  }
 },
 "nbformat": 4,
 "nbformat_minor": 5
}
