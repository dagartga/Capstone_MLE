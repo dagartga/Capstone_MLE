{
 "cells": [
  {
   "cell_type": "code",
   "execution_count": 3,
   "id": "54e2ae3a",
   "metadata": {},
   "outputs": [
    {
     "name": "stdout",
     "output_type": "stream",
     "text": [
      "All of the data for today 2022-04-04 is available.\n",
      "Today's 2022-04-04 data will be used\n"
     ]
    },
    {
     "data": {
      "text/plain": [
       "(array([[52731.05]], dtype=float32), '2022/04/04')"
      ]
     },
     "execution_count": 3,
     "metadata": {},
     "output_type": "execute_result"
    }
   ],
   "source": [
    "def get_full_dataset():\n",
    "    \"\"\"\n",
    "        Load in the full dataset scraped from btcinfocharts\n",
    "        Extract and return only a dataframe with the selected features\n",
    "    \"\"\"\n",
    "\n",
    "    import pandas as pd\n",
    "\n",
    "    path = './Merged_Unconverted_BTC_Data.csv'\n",
    "    full_df = pd.read_csv(path)\n",
    "\n",
    "    features = [\n",
    "            'median_transaction_fee3momUSD',\n",
    "            'fee_to_reward7momUSD',\n",
    "            'top100cap7mom',\n",
    "            'mining_profitability7rsi',\n",
    "            'top100cap14mom',\n",
    "            'price3wmaUSD',\n",
    "            'transactionvalue90emaUSD',\n",
    "            'difficulty30sma',\n",
    "            'fee_to_reward90smaUSD'\n",
    "            ]\n",
    "\n",
    "    # combine date and features\n",
    "    columns = ['Date'] + features\n",
    "\n",
    "    # extract only the data from the features desired\n",
    "    select_df = full_df[columns]\n",
    "\n",
    "    return select_df\n",
    "\n",
    "\n",
    "def preprocess_the_data():\n",
    "    \"\"\"\n",
    "        Takes in a dataframe of all the data\n",
    "        to fit the scaler using MinMaxScaler and RobustScaler\n",
    "        Then transform the new data using the scaler and retun it as a vector\n",
    "    \"\"\"\n",
    "    \n",
    "    from btcinfocharts_scraper import grab_the_data\n",
    "    import pickle\n",
    "    \n",
    "    # get the pickle file scaler\n",
    "    infile = open('./scaler/final_scaler.pkl', 'rb')\n",
    "    scale = pickle.load(infile)\n",
    "    infile.close()\n",
    "    \n",
    "    # get the new dataset for the most recent data\n",
    "    new_df, todays_date = grab_the_data()\n",
    "\n",
    "    # scale the new data\n",
    "    transformed_new_data = scale.transform(new_df)\n",
    "\n",
    "    return transformed_new_data, todays_date\n",
    "\n",
    "\n",
    "def prediction():\n",
    "\n",
    "    \"\"\"\n",
    "        Takes in the current data scraped from btcinfocharts.org\n",
    "        and returns a price prediction for tomorrow\n",
    "        Output is a 2D array\n",
    "        Example array([[59300.715]], dtype=float32)\n",
    "    \"\"\"\n",
    "\n",
    "    from keras.models import load_model\n",
    "\n",
    "    # load the best model from the training and testing\n",
    "    ann_model = load_model('./trained_models/ANN4_reg_nextday300Adam0-01relu64Int4_341.hdf5')\n",
    "\n",
    "    # load the current scaled data\n",
    "    current_scaled_data, todays_date = preprocess_the_data()\n",
    "\n",
    "    # make the prediction\n",
    "    pred_next_day_price = ann_model.predict(current_scaled_data)\n",
    "\n",
    "    return pred_next_day_price, todays_date\n",
    "\n",
    "\n",
    "\n",
    "prediction()"
   ]
  },
  {
   "cell_type": "code",
   "execution_count": 4,
   "id": "0797d1b5",
   "metadata": {},
   "outputs": [
    {
     "name": "stdout",
     "output_type": "stream",
     "text": [
      "All of the data for today 2022-04-04 is available.\n",
      "Today's 2022-04-04 data will be used\n"
     ]
    }
   ],
   "source": [
    "x,  y = preprocess_the_data()"
   ]
  },
  {
   "cell_type": "code",
   "execution_count": 5,
   "id": "d31d072e",
   "metadata": {},
   "outputs": [
    {
     "data": {
      "text/plain": [
       "array([[ 7.46666667e+01,  3.60919540e+00,  7.06590650e+01,\n",
       "        -4.01275569e+00,  4.46105112e+01,  6.29118702e+00,\n",
       "         2.09676047e+01,  4.56000570e+00,  2.27389517e-02]])"
      ]
     },
     "execution_count": 5,
     "metadata": {},
     "output_type": "execute_result"
    }
   ],
   "source": [
    "x"
   ]
  },
  {
   "cell_type": "code",
   "execution_count": 6,
   "id": "c1f12278",
   "metadata": {},
   "outputs": [
    {
     "data": {
      "text/plain": [
       "'2022/04/04'"
      ]
     },
     "execution_count": 6,
     "metadata": {},
     "output_type": "execute_result"
    }
   ],
   "source": [
    "y"
   ]
  },
  {
   "cell_type": "code",
   "execution_count": null,
   "id": "1fa8f5b4",
   "metadata": {},
   "outputs": [],
   "source": []
  }
 ],
 "metadata": {
  "kernelspec": {
   "display_name": "Python 3 (ipykernel)",
   "language": "python",
   "name": "python3"
  },
  "language_info": {
   "codemirror_mode": {
    "name": "ipython",
    "version": 3
   },
   "file_extension": ".py",
   "mimetype": "text/x-python",
   "name": "python",
   "nbconvert_exporter": "python",
   "pygments_lexer": "ipython3",
   "version": "3.7.11"
  }
 },
 "nbformat": 4,
 "nbformat_minor": 5
}
